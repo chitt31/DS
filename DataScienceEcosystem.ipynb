{
 "cells": [
  {
   "cell_type": "markdown",
   "id": "c401c1a5-8f0f-4999-8528-a4779e905cb9",
   "metadata": {},
   "source": [
    "<h1> Data Science Tools and Ecosystem </h1>"
   ]
  },
  {
   "cell_type": "markdown",
   "id": "3da8818c-6a00-4b0d-8bd9-92ae8888d59e",
   "metadata": {},
   "source": [
    "In this notebook, Data Science Tools and Ecosystem are summarized."
   ]
  },
  {
   "cell_type": "markdown",
   "id": "2a206550-9aca-4200-8425-3e106e70f097",
   "metadata": {},
   "source": [
    "# Introduction\n",
    "\n",
    "This notebook provides an overview of key concepts in data science and demonstrates various techniques and tools used in the field.\n",
    "\n",
    "---\n",
    "\n",
    "## Objectives:\n",
    "\n",
    "- **List popular languages for Data Science**\n",
    "- Explain the process of data cleaning and preprocessing\n",
    "- Demonstrate techniques for data visualization\n",
    "- Introduce machine learning algorithms and their applications\n",
    "- Showcase best practices for model evaluation and deployment\n",
    "\n",
    "---\n",
    "\n",
    "# Your code and analysis goes here...\n"
   ]
  },
  {
   "cell_type": "markdown",
   "id": "46386217-a931-45a0-98ba-34d106fb3a22",
   "metadata": {
    "tags": []
   },
   "source": [
    "Some of the popular languages that Data Scientists use are:"
   ]
  },
  {
   "cell_type": "markdown",
   "id": "2c522481-b9c5-4915-8995-61f289ae1e13",
   "metadata": {},
   "source": [
    "<ol> \n",
    "<li>Python.</li>\n",
    "<li>R.</li>\n",
    "<li>SQL.</li>\n",
    "</ol>"
   ]
  },
  {
   "cell_type": "markdown",
   "id": "254d6a63-d869-4d15-a153-b8891a0489a1",
   "metadata": {},
   "source": [
    "Some of the popular languages that Data Scientists use are:\n"
   ]
  },
  {
   "cell_type": "markdown",
   "id": "5a698b3e-4eff-4913-8727-b75422e25cd8",
   "metadata": {},
   "source": [
    "<ol> \n",
    "<li>TensorFlow.</li>\n",
    "<li>NumPy.</li>\n",
    "<li>SciPy.</li>\n",
    "</ol>"
   ]
  },
  {
   "cell_type": "markdown",
   "id": "e1d85662-3f85-45ab-bcd9-a82a9bba80ad",
   "metadata": {},
   "source": [
    "Data Science Tools:"
   ]
  },
  {
   "cell_type": "markdown",
   "id": "79ceaeb9-e756-418e-84e1-7ff225e0625e",
   "metadata": {},
   "source": [
    "<table>\n",
    "  <tr>\n",
    "    <th>Data Science Tools</th>\n",
    "  </tr>\n",
    "  <tr>\n",
    "    <td>Jupyter Notebook</td>\n",
    "  </tr>\n",
    "  <tr>\n",
    "    <td>RStudio</td>\n",
    "  </tr>\n",
    "  <tr>\n",
    "    <td>Anaconda</td>\n",
    "  </tr>\n",
    "</table>\n"
   ]
  },
  {
   "cell_type": "code",
   "execution_count": 2,
   "id": "b1159af0-5343-4b3b-a3af-93dcf591a7fa",
   "metadata": {
    "tags": []
   },
   "outputs": [
    {
     "data": {
      "text/plain": [
       "17"
      ]
     },
     "execution_count": 2,
     "metadata": {},
     "output_type": "execute_result"
    }
   ],
   "source": [
    "# This is a simple arithmetic expression to multiply then add integers\n",
    "result = (3 * 4) + 5\n",
    "result\n"
   ]
  },
  {
   "cell_type": "markdown",
   "id": "cc93cf3e-65ad-46ea-9dcf-fc801f4e0204",
   "metadata": {},
   "source": [
    " Below are a few examples of evaluating arithmetic expressions in Python"
   ]
  },
  {
   "cell_type": "code",
   "execution_count": 3,
   "id": "fa067174-cdaf-46f1-8099-b97b15651c29",
   "metadata": {
    "tags": []
   },
   "outputs": [
    {
     "data": {
      "text/plain": [
       "17"
      ]
     },
     "execution_count": 3,
     "metadata": {},
     "output_type": "execute_result"
    }
   ],
   "source": [
    "# Below are a few examples of evaluating arithmetic expressions in Python\n",
    "\n",
    "## Evaluate the expression (3*4)+5\n",
    "result = (3 * 4) + 5\n",
    "result\n"
   ]
  },
  {
   "cell_type": "markdown",
   "id": "919fe140-6e6c-4e09-99a6-d2e9cd3cc91d",
   "metadata": {},
   "source": [
    "This will convert 200 minutes to hours by dividing by 60"
   ]
  },
  {
   "cell_type": "code",
   "execution_count": 4,
   "id": "1c2576ac-f45b-44a1-bae6-fd40d255f4e1",
   "metadata": {
    "tags": []
   },
   "outputs": [
    {
     "data": {
      "text/plain": [
       "3.3333333333333335"
      ]
     },
     "execution_count": 4,
     "metadata": {},
     "output_type": "execute_result"
    }
   ],
   "source": [
    "# This will convert 200 minutes to hours by dividing by 60\n",
    "minutes = 200\n",
    "hours = minutes / 60\n",
    "hours"
   ]
  },
  {
   "cell_type": "markdown",
   "id": "288b8701-c72e-480d-81cb-87e4ddde1c67",
   "metadata": {},
   "source": [
    "<h2>Author</h2>\n",
    "Chitt"
   ]
  },
  {
   "cell_type": "code",
   "execution_count": null,
   "id": "943923dc-f257-4a38-9126-ac54cd7063a0",
   "metadata": {},
   "outputs": [],
   "source": []
  }
 ],
 "metadata": {
  "kernelspec": {
   "display_name": "Python",
   "language": "python",
   "name": "conda-env-python-py"
  },
  "language_info": {
   "codemirror_mode": {
    "name": "ipython",
    "version": 3
   },
   "file_extension": ".py",
   "mimetype": "text/x-python",
   "name": "python",
   "nbconvert_exporter": "python",
   "pygments_lexer": "ipython3",
   "version": "3.7.12"
  }
 },
 "nbformat": 4,
 "nbformat_minor": 5
}
